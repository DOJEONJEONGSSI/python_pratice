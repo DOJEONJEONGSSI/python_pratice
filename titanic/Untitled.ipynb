!pip install pandas


import pandas as pd


data= {"name":["nick", "judy", "alex"],
       "age":[10, 15, 20]}
df = pd.DataFrame(data)
data
df


df['age_plus'] = df['age'] + 1
df['age_squared'] = df['age'] * df['age']
df





df2 = pd.DataFrame({  "name" : ["nick", "judy", "alex"]
                    , "height" : [180, 165, 175]
                    , "gender" : ["M", "F", "M"]})
joined = df.set_index("name").join(df2.set_index("name"))
joined





df_mean = joined.groupby("gender").mean()





import FinanceDataReader as fdr



